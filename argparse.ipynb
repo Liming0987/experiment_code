{
 "cells": [
  {
   "cell_type": "code",
   "execution_count": 5,
   "metadata": {},
   "outputs": [],
   "source": [
    "import argparse\n",
    "import logging\n",
    "import sys\n",
    "import numpy as np"
   ]
  },
  {
   "cell_type": "code",
   "execution_count": 6,
   "metadata": {},
   "outputs": [
    {
     "name": "stdout",
     "output_type": "stream",
     "text": [
      "Namespace(data_loader='', data_processor='', model_name='BaseModel', rank=1, runner_name='')\n"
     ]
    }
   ],
   "source": [
    "'''\n",
    "1. import argparse\n",
    "2. parser = argparse.ArgumentParser(description='')\n",
    "3. parser.add_argument('--model', type=str, default='', help='')\n",
    "4. args = parser.parse_args() / args, extras = parser.parse_known_args()\n",
    "'''\n",
    "\n",
    "init_parser = argparse.ArgumentParser(description='Model', add_help=False)\n",
    "init_parser.add_argument('--rank', type=int, default=1, help='1=ranking, 0=rating/click')\n",
    "init_parser.add_argument('--data_loader', type=str, default='', help='choose a data loader')\n",
    "init_parser.add_argument('--model_name', type=str, default='BaseModel', help='choose a model to run')\n",
    "init_parser.add_argument('--runner_name', type=str, default='', help='choose a runner')\n",
    "init_parser.add_argument('--data_processor', type=str, default='', help='choose a data processor')\n",
    "init_args, init_extras = init_parser.parse_known_args()\n",
    "print(init_args)\n",
    "\n",
    "# eval() 遇到 variable 就去找该variable对应的value\n",
    "# 这里的 model_name 对应的是 class\n",
    "model_name = eval(init_args.model_name)\n",
    "\n",
    "if init_args.data_loader == '':\n",
    "    init_args.data_loader = model_name.data_loader\n",
    "data_loader_name = eval(init_args.data_loader)\n",
    "\n",
    "# 将 init_args 转化为字典\n",
    "sorted(vars(init_args).items(), key=lambda kv: kv[0])"
   ]
  },
  {
   "cell_type": "code",
   "execution_count": 9,
   "metadata": {},
   "outputs": [
    {
     "name": "stdout",
     "output_type": "stream",
     "text": [
      "('rank', 1)\n",
      "('data_loader', '')\n",
      "('model_name', 'BaseModel')\n",
      "('runner_name', '')\n",
      "('data_processor', '')\n"
     ]
    }
   ],
   "source": [
    "for p in vars(init_args).items():\n",
    "    print(p)"
   ]
  },
  {
   "cell_type": "code",
   "execution_count": 10,
   "metadata": {},
   "outputs": [
    {
     "data": {
      "text/plain": [
       "{'rank': 1,\n",
       " 'data_loader': '',\n",
       " 'model_name': 'BaseModel',\n",
       " 'runner_name': '',\n",
       " 'data_processor': ''}"
      ]
     },
     "execution_count": 10,
     "metadata": {},
     "output_type": "execute_result"
    }
   ],
   "source": [
    "vars(init_args)"
   ]
  },
  {
   "cell_type": "code",
   "execution_count": 15,
   "metadata": {},
   "outputs": [],
   "source": [
    "user = [1, 2, 3]\n",
    "iters = [[1, 2, 3], [4, 5]]"
   ]
  },
  {
   "cell_type": "code",
   "execution_count": 16,
   "metadata": {},
   "outputs": [
    {
     "name": "stdout",
     "output_type": "stream",
     "text": [
      "1\n",
      "[1, 2, 3]\n",
      "2\n",
      "[4, 5]\n"
     ]
    }
   ],
   "source": [
    "for u, i in zip(user, iters):\n",
    "    print(u)\n",
    "    print(i)"
   ]
  },
  {
   "cell_type": "code",
   "execution_count": 17,
   "metadata": {},
   "outputs": [
    {
     "data": {
      "text/plain": [
       "{1: [1, 2, 3], 2: [4, 5]}"
      ]
     },
     "execution_count": 17,
     "metadata": {},
     "output_type": "execute_result"
    }
   ],
   "source": [
    "dict(zip(user, iters))"
   ]
  },
  {
   "cell_type": "code",
   "execution_count": null,
   "metadata": {},
   "outputs": [],
   "source": []
  },
  {
   "cell_type": "code",
   "execution_count": null,
   "metadata": {},
   "outputs": [],
   "source": []
  }
 ],
 "metadata": {
  "kernelspec": {
   "display_name": "Python 3",
   "language": "python",
   "name": "python3"
  },
  "language_info": {
   "codemirror_mode": {
    "name": "ipython",
    "version": 3
   },
   "file_extension": ".py",
   "mimetype": "text/x-python",
   "name": "python",
   "nbconvert_exporter": "python",
   "pygments_lexer": "ipython3",
   "version": "3.7.9"
  }
 },
 "nbformat": 4,
 "nbformat_minor": 4
}
